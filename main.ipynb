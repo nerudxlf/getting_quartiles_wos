{
  "nbformat": 4,
  "nbformat_minor": 0,
  "metadata": {
    "colab": {
      "name": "main.ipynb",
      "provenance": [],
      "authorship_tag": "ABX9TyNrlDlOxDltJruS1Byr8yNW",
      "include_colab_link": true
    },
    "kernelspec": {
      "name": "python3",
      "display_name": "Python 3"
    }
  },
  "cells": [
    {
      "cell_type": "markdown",
      "metadata": {
        "id": "view-in-github",
        "colab_type": "text"
      },
      "source": [
        "<a href=\"https://colab.research.google.com/github/nerudxlf/getting_quartiles_wos/blob/main/main.ipynb\" target=\"_parent\"><img src=\"https://colab.research.google.com/assets/colab-badge.svg\" alt=\"Open In Colab\"/></a>"
      ]
    },
    {
      "cell_type": "code",
      "metadata": {
        "id": "5bswkBf45o-l"
      },
      "source": [
        "import pandas as pd\n",
        "from google.colab import files\n",
        "\n",
        "import re\n",
        "from collections import Counter\n",
        "\n",
        "files.upload()"
      ],
      "execution_count": null,
      "outputs": []
    },
    {
      "cell_type": "code",
      "metadata": {
        "id": "UXlK-i-n5_vF"
      },
      "source": [
        "def get_result(q_only: object, data: object) -> object:\n",
        "  \"\"\"\n",
        "  Функция соединяет таблицу с квартилями и выгрузку из WoS\n",
        "  Создается 2 DataFrame один соединен по ISSN, а другой по E-ISSN\n",
        "  Возвращает таблицу(DataFrame) конкатенированную из 2 предыдущих DataFrames\n",
        "  Которая содержит информацию по квартилю у публикации\n",
        "  param: q_only(DataFrame): таблица с определенным квартилем\n",
        "         data(DataFrame): выгрузка из WoS \n",
        "  return: q_only_result(DataFrame)\n",
        "  \"\"\"\n",
        "  q_only_issn = q_only.filter([\"Full Journal Title\", \"ISSN\", \"Quartile\"])\n",
        "  q_only_issn.dropna(subset=[\"ISSN\"], inplace=True)\n",
        "  q_only_eissn = q_only.filter([\"Full Journal Title\", \"E-ISSN\", \"Quartile\"])\n",
        "  q_only_eissn.dropna(subset=[\"E-ISSN\"], inplace=True)\n",
        "\n",
        "  q_data_wos_issn = pd.merge(left=q_only_issn, right=data, left_on=\"ISSN\", right_on=\"ISSN\")\n",
        "  q_data_wos_eissn = pd.merge(left=q_only_eissn, right=data, left_on=\"E-ISSN\", right_on=\"eISSN\")\n",
        "  q_only_result = pd.concat([q_data_wos_issn, q_data_wos_eissn])\n",
        "  return q_only_result\n",
        "\n",
        "\n",
        "def count_n(q: object) -> object:\n",
        "  \"\"\"\n",
        "  Функция считает число аффилиаций у каждого автора\n",
        "  В цикле по столбцу Addresses находятся авторы\n",
        "  Если автор из ОмГТУ, то автор добавляется в список авторов ОмГТУ\n",
        "  и в общий список авторов\n",
        "  Ксли автор не из ОмГТУ, то автор добавляется в общий список авторов\n",
        "  Далее считается сколько раз в общем списке встречается каждый автор\n",
        "  Далее по формуле total = total + 1/count, находится доля ОмГТУ в каждой статье\n",
        "  (где count количество вхождений автора в общий список авторов)\n",
        "  Затем считается общая доля ОмГТУ во всех статьях \n",
        "\n",
        "  param: q(DataFrame): таблица из статей с каким-либо квартилем\n",
        "  return: q(DataFrame): возвращает таблицу(Статья|Доля ОмГТУ)\n",
        "  \"\"\"\n",
        "  author_list = q[\"Addresses\"].to_list()\n",
        "  n_list = []\n",
        "  for item in author_list:\n",
        "    total = 0\n",
        "    omstu_list = []\n",
        "    all_list = []\n",
        "    item_split = item.split(\"[\")[1:]\n",
        "    for elem in item_split:\n",
        "      if elem.find(\"Omsk State Tech Univ\") != -1:\n",
        "        elem_split = elem.split(\"]\")\n",
        "        for i in elem_split[0].split(';'):\n",
        "          i = re.sub(r'[^A-Za-z]', '', i)\n",
        "          omstu_list.append(i)\n",
        "          all_list.append(i)\n",
        "      else:\n",
        "        elem_split = elem.split(\"]\")\n",
        "        for i in elem_split[0].split(';'):\n",
        "          i = re.sub(r'[^A-Za-z]', '', i)\n",
        "          all_list.append(i)\n",
        "    all_dict = dict(Counter(all_list))\n",
        "    n2 = len(all_dict.keys())\n",
        "    for elem in omstu_list:\n",
        "      total += 1 / all_dict[elem]\n",
        "    n = total / n2\n",
        "    n_list.append(n)\n",
        "  q[\"N\"] = n_list\n",
        "  return q\n",
        "\n",
        "\n",
        "def get_result_q_none(q1: object, q2: object, q3: object, q4: object, data: object) -> object:\n",
        "  \"\"\"\n",
        "  Функция получает количество безквартильных статей\n",
        "  param: q1(DataFrame): таблица 1 квартиля\n",
        "         q2(DataFrame): таблица 2 квартиля\n",
        "         q3(DataFrame): таблица 3 квартиля\n",
        "         q4(DataFrame): таблица 4 квартиля\n",
        "         data(DataFrame): выгрузка из WoS\n",
        "  return: result(DataFrame): безквартильные публикации\n",
        "  \"\"\"\n",
        "  q_concat = pd.concat([q1, q2, q3, q4])\n",
        "  result = pd.concat([data, q_concat])\n",
        "  result.drop([\"Full Journal Title\", \"Quartile\", \"E-ISSN\"], axis=1, inplace=True)\n",
        "  return result.drop_duplicates(keep=False)"
      ],
      "execution_count": null,
      "outputs": []
    },
    {
      "cell_type": "code",
      "metadata": {
        "id": "MYbbDjNb6wWt"
      },
      "source": [
        "data_wos_df = pd.read_excel(\"data_WoS_2020.xls\")\n",
        "journal_list = pd.read_excel(\"journal-list-jcr-2019_18122020.xlsx\")\n",
        "\n",
        "journal_list_update = journal_list.filter([\"Full Journal Title\", \"ISSN\", \"E-ISSN\", \"Quartile\"])\n",
        "data_wos_update_df = data_wos_df.filter([\"Article Title\", \"Addresses\", \"ISSN\", \"eISSN\"])\n",
        "\n",
        "q1_only = journal_list_update[(journal_list_update[\"Quartile\"] == \"Q1\")]\n",
        "q2_only = journal_list_update[(journal_list_update[\"Quartile\"] == \"Q2\")]\n",
        "q3_only = journal_list_update[(journal_list_update[\"Quartile\"] == \"Q3\")]\n",
        "q4_only = journal_list_update[(journal_list_update[\"Quartile\"] == \"Q4\")]\n",
        "\n",
        "q1_only_result = get_result(q1_only, data_wos_update_df)\n",
        "q2_only_result = get_result(q2_only, data_wos_update_df)\n",
        "q3_only_result = get_result(q3_only, data_wos_update_df)\n",
        "q4_only_result = get_result(q4_only, data_wos_update_df)\n",
        "q_none = get_result_q_none(q1_only_result, q2_only_result, q3_only_result, q4_only_result, data_wos_update_df)\n",
        "\n",
        "q1_only_result = count_n(q1_only_result)\n",
        "q2_only_result = count_n(q2_only_result)\n",
        "q3_only_result = count_n(q3_only_result)\n",
        "q4_only_result = count_n(q4_only_result)\n",
        "q_none = count_n(q_none)\n",
        "\n",
        "q1_only_result.to_excel(\"w1.xlsx\", index=False)\n",
        "q2_only_result.to_excel(\"w2.xlsx\", index=False)\n",
        "q3_only_result.to_excel(\"w3.xlsx\", index=False)\n",
        "q4_only_result.to_excel(\"w4.xlsx\", index=False)\n",
        "q_none.to_excel(\"w_none.xlsx\", index=False)"
      ],
      "execution_count": null,
      "outputs": []
    }
  ]
}