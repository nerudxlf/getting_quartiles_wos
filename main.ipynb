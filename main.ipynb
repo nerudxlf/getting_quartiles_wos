{
  "nbformat": 4,
  "nbformat_minor": 0,
  "metadata": {
    "colab": {
      "name": "main.ipynb",
      "provenance": [],
      "authorship_tag": "ABX9TyMxKiFyclJbB5Aag8n2ZQPe",
      "include_colab_link": true
    },
    "kernelspec": {
      "name": "python3",
      "display_name": "Python 3"
    }
  },
  "cells": [
    {
      "cell_type": "markdown",
      "metadata": {
        "id": "view-in-github",
        "colab_type": "text"
      },
      "source": [
        "<a href=\"https://colab.research.google.com/github/nerudxlf/getting_quartiles_wos/blob/main/main.ipynb\" target=\"_parent\"><img src=\"https://colab.research.google.com/assets/colab-badge.svg\" alt=\"Open In Colab\"/></a>"
      ]
    },
    {
      "cell_type": "code",
      "metadata": {
        "id": "5bswkBf45o-l"
      },
      "source": [
        "import pandas as pd\r\n",
        "from google.colab import files\r\n",
        "\r\n",
        "files.upload()"
      ],
      "execution_count": null,
      "outputs": []
    },
    {
      "cell_type": "code",
      "metadata": {
        "id": "UXlK-i-n5_vF"
      },
      "source": [
        "def get_result(q_only: object, data: object) -> object:\r\n",
        "  q_only_issn = q_only.filter([\"Full Journal Title\", \"ISSN\", \"Quartile\"])\r\n",
        "  q_only_issn.dropna(subset=[\"ISSN\"], inplace=True)\r\n",
        "  q_only_eissn = q_only.filter([\"Full Journal Title\", \"E-ISSN\", \"Quartile\"])\r\n",
        "  q_only_eissn.dropna(subset=[\"E-ISSN\"], inplace=True)\r\n",
        "\r\n",
        "  q_data_wos_issn = pd.merge(left=q_only_issn, right=data, left_on=\"ISSN\", right_on=\"ISSN\")\r\n",
        "  q_data_wos_eissn = pd.merge(left=q_only_eissn, right=data, left_on=\"E-ISSN\", right_on=\"eISSN\")\r\n",
        "  q_only_result = pd.concat([q_data_wos_issn, q_data_wos_eissn])\r\n",
        "  return q_only_result\r\n",
        "\r\n",
        "\r\n",
        "def count_n(q: object) -> object:\r\n",
        "  author_list = q[\"Addresses\"].to_list()\r\n",
        "  n_list = []\r\n",
        "  for item in author_list:\r\n",
        "    n1, n2 = 0, 0\r\n",
        "    item_split = item.split(\"[\")[1:]\r\n",
        "    for elem in item_split:\r\n",
        "      if elem.find(\"Omsk State Tech Univ\") != -1:\r\n",
        "        elem_split = elem.split(\"]\")\r\n",
        "        n1 += len(elem_split[0].split(';'))\r\n",
        "      else:\r\n",
        "        elem_split = elem.split(\"]\")\r\n",
        "        n2 += len(elem_split[0].split(';'))\r\n",
        "    n = n1 / (n1 + n2)\r\n",
        "    n_list.append(n)\r\n",
        "  q[\"N\"] = n_list\r\n",
        "  return q\r\n",
        "\r\n",
        "\r\n",
        "def get_result_q_none(q1: object, q2: object, q3: object, q4: object, data: object) -> object:\r\n",
        "  q_concat = pd.concat([q1, q2, q3, q4])\r\n",
        "  result = pd.concat([data, q_concat])\r\n",
        "  result.drop([\"Full Journal Title\", \"Quartile\", \"E-ISSN\"], axis=1, inplace=True)\r\n",
        "  return result.drop_duplicates(keep=False)"
      ],
      "execution_count": null,
      "outputs": []
    },
    {
      "cell_type": "code",
      "metadata": {
        "id": "MYbbDjNb6wWt"
      },
      "source": [
        "data_wos_df = pd.read_excel(\"data_WoS_2020.xls\")\r\n",
        "journal_list = pd.read_excel(\"journal-list-jcr-2019_18122020.xlsx\")\r\n",
        "\r\n",
        "journal_list_update = journal_list.filter([\"Full Journal Title\", \"ISSN\", \"E-ISSN\", \"Quartile\"])\r\n",
        "data_wos_update_df = data_wos_df.filter([\"Article Title\", \"Addresses\", \"ISSN\", \"eISSN\"])\r\n",
        "\r\n",
        "q1_only = journal_list_update[(journal_list_update[\"Quartile\"] == \"Q1\")]\r\n",
        "q2_only = journal_list_update[(journal_list_update[\"Quartile\"] == \"Q2\")]\r\n",
        "q3_only = journal_list_update[(journal_list_update[\"Quartile\"] == \"Q3\")]\r\n",
        "q4_only = journal_list_update[(journal_list_update[\"Quartile\"] == \"Q4\")]\r\n",
        "\r\n",
        "q1_only_result = get_result(q1_only, data_wos_update_df)\r\n",
        "q2_only_result = get_result(q2_only, data_wos_update_df)\r\n",
        "q3_only_result = get_result(q3_only, data_wos_update_df)\r\n",
        "q4_only_result = get_result(q4_only, data_wos_update_df)\r\n",
        "q_none = get_result_q_none(q1_only_result, q2_only_result, q3_only_result, q4_only_result, data_wos_update_df)\r\n",
        "\r\n",
        "q1_only_result = count_n(q1_only_result)\r\n",
        "q2_only_result = count_n(q2_only_result)\r\n",
        "q3_only_result = count_n(q3_only_result)\r\n",
        "q4_only_result = count_n(q4_only_result)\r\n",
        "q_none = count_n(q_none)\r\n",
        "\r\n",
        "q1_only_result.to_excel(\"w1.xlsx\", index=False)\r\n",
        "q2_only_result.to_excel(\"w2.xlsx\", index=False)\r\n",
        "q3_only_result.to_excel(\"w3.xlsx\", index=False)\r\n",
        "q4_only_result.to_excel(\"w4.xlsx\", index=False)\r\n",
        "q_none.to_excel(\"w_none.xlsx\", index=False)"
      ],
      "execution_count": null,
      "outputs": []
    }
  ]
}